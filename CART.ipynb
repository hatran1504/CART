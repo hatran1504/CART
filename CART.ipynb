{
 "cells": [
  {
   "cell_type": "code",
   "execution_count": 1,
   "metadata": {},
   "outputs": [],
   "source": [
    "import pandas as pd \n",
    "import numpy as np \n",
    "\n",
    "from sklearn.model_selection import train_test_split \n",
    "from sklearn.metrics import classification_report\n",
    "from sklearn.metrics import accuracy_score \n",
    "from sklearn.metrics import confusion_matrix \n",
    "from sklearn import tree\n",
    "\n",
    "from sklearn.tree import DecisionTreeClassifier \n",
    "import graphviz \n"
   ]
  },
  {
   "cell_type": "code",
   "execution_count": 2,
   "metadata": {},
   "outputs": [],
   "source": [
    "def import_data():\n",
    "    data= pd.read_csv('weatherAUS.csv')\n",
    "    \n",
    "    # Drop records where target RainTomorrow=NaN\n",
    "    data= data[pd.isnull(data['RainTomorrow'])==False]\n",
    "    \n",
    "    # For other columns with missing values, fill them in with column mean\n",
    "    data=data.fillna(data.mean())\n",
    "    \n",
    "    # Create a flag for RainToday and RainTomorrow, note RainTomorrowFlag will be our target variable\n",
    "    data['RainTodayFlag']=data['RainToday'].apply(lambda x: 1 if x=='Yes' else 0)\n",
    "    data['RainTomorrowFlag']=data['RainTomorrow'].apply(lambda x: 1 if x=='Yes' else 0)\n",
    "    \n",
    "    print(data.head())\n",
    "    return data"
   ]
  },
  {
   "cell_type": "code",
   "execution_count": 3,
   "metadata": {},
   "outputs": [],
   "source": [
    "def splitdataset(data):\n",
    "    \n",
    "    #Separating the target variable\n",
    "    X=data[['MinTemp', 'MaxTemp', 'Rainfall', 'Evaporation', 'Sunshine', 'WindGustSpeed', \n",
    "      'WindSpeed9am', 'WindSpeed3pm', 'Humidity9am', 'Humidity3pm', 'Pressure9am',  \n",
    "      'Pressure3pm', 'Cloud9am', 'Cloud3pm', 'Temp9am', 'Temp3pm', 'RainTodayFlag']]\n",
    "    y=data['RainTomorrowFlag'].values \n",
    "    \n",
    "    # Splitting the dataset into train and test\n",
    "    X_train, X_test, y_train, y_test = train_test_split(X, y, test_size=0.2, random_state=0)\n",
    "    \n",
    "    return X, y, X_train, X_test, y_train, y_test\n"
   ]
  },
  {
   "cell_type": "code",
   "execution_count": 4,
   "metadata": {},
   "outputs": [],
   "source": [
    "def train_using_gini(X_train, y_train, criterion, splitter, mdepth, clweight, minleaf):\n",
    "    \n",
    "    # Creating the classifier object \n",
    "    clf_gini = tree.DecisionTreeClassifier(criterion=criterion, \n",
    "                                        splitter=splitter, \n",
    "                                        max_depth=mdepth,\n",
    "                                        class_weight=clweight,\n",
    "                                        min_samples_leaf=minleaf, \n",
    "                                        random_state=0 )\n",
    "  \n",
    "    # Performing training \n",
    "    clf_gini.fit(X_train, y_train) \n",
    "     \n",
    "\n",
    "    return clf_gini"
   ]
  },
  {
   "cell_type": "code",
   "execution_count": 5,
   "metadata": {},
   "outputs": [],
   "source": [
    "def tree_summary(clf_gini):\n",
    "    print('*************** Tree Summary ***************')\n",
    "    print('Classes: ', clf_gini.classes_)\n",
    "    print('Tree Depth: ', clf_gini.tree_.max_depth)\n",
    "    print('No. of leaves: ', clf_gini.tree_.n_leaves)\n",
    "    print('No. of features: ', clf_gini.n_features_)\n",
    "    print('--------------------------------------------------------')\n",
    "    print(\"\")   \n",
    "    "
   ]
  },
  {
   "cell_type": "code",
   "execution_count": 6,
   "metadata": {},
   "outputs": [],
   "source": [
    "# Function to make predictions \n",
    "def prediction(X_test, clf_gini): \n",
    "  \n",
    "    # Predicton on test with giniIndex \n",
    "    y_pred = clf_gini.predict(X_test) \n",
    "    print(\"Predicted values:\") \n",
    "    print(y_pred) \n",
    "    return y_pred "
   ]
  },
  {
   "cell_type": "code",
   "execution_count": 7,
   "metadata": {},
   "outputs": [],
   "source": [
    "# Function to calculate accuracy\n",
    "def cal_accuracy(y_test, y_pred): \n",
    "      \n",
    "    print('*******************Confusion matrix *******************')\n",
    "    print(\"Confusion Matrix: \", confusion_matrix(y_test, y_pred)) \n",
    "    print('--------------------------------------------------------')\n",
    "    print(\"\")\n",
    "    \n",
    "    print('*************** Evaluation on Test Data ***************')\n",
    "    print (\"Accuracy : \", \n",
    "    accuracy_score(y_test,y_pred)*100) \n",
    "      \n",
    "    print(\"Report : \", \n",
    "    classification_report(y_test, y_pred))\n",
    "    print('--------------------------------------------------------')\n",
    "    print(\"\")"
   ]
  },
  {
   "cell_type": "code",
   "execution_count": 8,
   "metadata": {},
   "outputs": [],
   "source": [
    "def dtree_render(clf_gini, X):\n",
    "    \n",
    "    feature= X.columns\n",
    "    target= [str(list(clf_gini.classes_)[0]), str(list(clf_gini.classes_)[1])]\n",
    "    \n",
    "    dot_data = tree.export_graphviz(clf_gini, out_file=None, \n",
    "                                feature_names= feature, \n",
    "                                class_names= target,\n",
    "                                filled=True, \n",
    "                                rounded=True\n",
    "                               ) \n",
    "    \n",
    "    graph = graphviz.Source(dot_data)\n",
    "    \n",
    "    \n",
    "    graph.format = 'png'\n",
    "    graph.render('dtree_render',view=True)\n",
    "    \n",
    "    return graph"
   ]
  },
  {
   "cell_type": "code",
   "execution_count": 9,
   "metadata": {},
   "outputs": [],
   "source": [
    "def main():\n",
    "    \n",
    "    # Building Phase \n",
    "    data = import_data() \n",
    "    \n",
    "    X, Y, X_train, X_test, y_train, y_test = splitdataset(data)\n",
    "    \n",
    "    clf_gini = train_using_gini(X_train, y_train, 'gini','best', \n",
    "                                mdepth= 3, \n",
    "                                clweight=None,\n",
    "                                minleaf=1000)\n",
    "    \n",
    "    # Tree Summary\n",
    "    tree_summary(clf_gini)\n",
    "     \n",
    "    # Prediction using gini \n",
    "    \n",
    "    y_pred = prediction(X_test, clf_gini) \n",
    "    cal_accuracy(y_test, y_pred)\n",
    "    \n",
    "        \n",
    "    graph= dtree_render(clf_gini, X)   \n",
    "    "
   ]
  },
  {
   "cell_type": "code",
   "execution_count": 10,
   "metadata": {},
   "outputs": [
    {
     "name": "stdout",
     "output_type": "stream",
     "text": [
      "         Date Location  MinTemp  MaxTemp  Rainfall  Evaporation  Sunshine  \\\n",
      "0  2008-12-01   Albury     13.4     22.9       0.6     5.469824  7.624853   \n",
      "1  2008-12-02   Albury      7.4     25.1       0.0     5.469824  7.624853   \n",
      "2  2008-12-03   Albury     12.9     25.7       0.0     5.469824  7.624853   \n",
      "3  2008-12-04   Albury      9.2     28.0       0.0     5.469824  7.624853   \n",
      "4  2008-12-05   Albury     17.5     32.3       1.0     5.469824  7.624853   \n",
      "\n",
      "  WindGustDir  WindGustSpeed WindDir9am  ... Pressure9am  Pressure3pm  \\\n",
      "0           W           44.0          W  ...      1007.7       1007.1   \n",
      "1         WNW           44.0        NNW  ...      1010.6       1007.8   \n",
      "2         WSW           46.0          W  ...      1007.6       1008.7   \n",
      "3          NE           24.0         SE  ...      1017.6       1012.8   \n",
      "4           W           41.0        ENE  ...      1010.8       1006.0   \n",
      "\n",
      "   Cloud9am  Cloud3pm  Temp9am  Temp3pm  RainToday  RainTomorrow  \\\n",
      "0  8.000000  4.503167     16.9     21.8         No            No   \n",
      "1  4.437189  4.503167     17.2     24.3         No            No   \n",
      "2  4.437189  2.000000     21.0     23.2         No            No   \n",
      "3  4.437189  4.503167     18.1     26.5         No            No   \n",
      "4  7.000000  8.000000     17.8     29.7         No            No   \n",
      "\n",
      "   RainTodayFlag  RainTomorrowFlag  \n",
      "0              0                 0  \n",
      "1              0                 0  \n",
      "2              0                 0  \n",
      "3              0                 0  \n",
      "4              0                 0  \n",
      "\n",
      "[5 rows x 25 columns]\n",
      "*************** Tree Summary ***************\n",
      "Classes:  [0 1]\n",
      "Tree Depth:  3\n",
      "No. of leaves:  8\n",
      "No. of features:  17\n",
      "--------------------------------------------------------\n",
      "\n",
      "Predicted values:\n",
      "[0 0 0 ... 0 0 0]\n",
      "*******************Confusion matrix *******************\n",
      "Confusion Matrix:  [[21392   675]\n",
      " [ 4204  2168]]\n",
      "--------------------------------------------------------\n",
      "\n",
      "*************** Evaluation on Test Data ***************\n",
      "Accuracy :  82.8439818559021\n",
      "Report :                precision    recall  f1-score   support\n",
      "\n",
      "           0       0.84      0.97      0.90     22067\n",
      "           1       0.76      0.34      0.47      6372\n",
      "\n",
      "    accuracy                           0.83     28439\n",
      "   macro avg       0.80      0.65      0.68     28439\n",
      "weighted avg       0.82      0.83      0.80     28439\n",
      "\n",
      "--------------------------------------------------------\n",
      "\n"
     ]
    }
   ],
   "source": [
    "#Calling main function\n",
    "if __name__==\"__main__\": \n",
    "    main() "
   ]
  },
  {
   "cell_type": "code",
   "execution_count": null,
   "metadata": {},
   "outputs": [],
   "source": []
  }
 ],
 "metadata": {
  "kernelspec": {
   "display_name": "Python 3",
   "language": "python",
   "name": "python3"
  },
  "language_info": {
   "codemirror_mode": {
    "name": "ipython",
    "version": 3
   },
   "file_extension": ".py",
   "mimetype": "text/x-python",
   "name": "python",
   "nbconvert_exporter": "python",
   "pygments_lexer": "ipython3",
   "version": "3.7.6"
  }
 },
 "nbformat": 4,
 "nbformat_minor": 4
}
